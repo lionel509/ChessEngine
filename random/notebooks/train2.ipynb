{
 "cells": [
  {
   "cell_type": "code",
   "execution_count": 1,
   "metadata": {},
   "outputs": [
    {
     "ename": "ModuleNotFoundError",
     "evalue": "No module named 'chess'",
     "output_type": "error",
     "traceback": [
      "\u001b[1;31m---------------------------------------------------------------------------\u001b[0m",
      "\u001b[1;31mModuleNotFoundError\u001b[0m                       Traceback (most recent call last)",
      "Cell \u001b[1;32mIn[1], line 7\u001b[0m\n\u001b[0;32m      5\u001b[0m \u001b[38;5;28;01mimport\u001b[39;00m \u001b[38;5;21;01mpickle\u001b[39;00m\n\u001b[0;32m      6\u001b[0m \u001b[38;5;28;01mimport\u001b[39;00m \u001b[38;5;21;01mmatplotlib\u001b[39;00m\u001b[38;5;21;01m.\u001b[39;00m\u001b[38;5;21;01mpyplot\u001b[39;00m \u001b[38;5;28;01mas\u001b[39;00m \u001b[38;5;21;01mplt\u001b[39;00m\n\u001b[1;32m----> 7\u001b[0m \u001b[38;5;28;01mimport\u001b[39;00m \u001b[38;5;21;01mchess\u001b[39;00m\n\u001b[0;32m      8\u001b[0m \u001b[38;5;28;01mimport\u001b[39;00m \u001b[38;5;21;01mrandom\u001b[39;00m\n\u001b[0;32m      9\u001b[0m \u001b[38;5;28;01mfrom\u001b[39;00m \u001b[38;5;21;01mutils\u001b[39;00m\u001b[38;5;21;01m.\u001b[39;00m\u001b[38;5;21;01mdata_loader\u001b[39;00m \u001b[38;5;28;01mimport\u001b[39;00m load_training_data, encode_board_state, decode_prediction\n",
      "\u001b[1;31mModuleNotFoundError\u001b[0m: No module named 'chess'"
     ]
    }
   ],
   "source": [
    "import numpy as np\n",
    "import pandas as pd\n",
    "from sklearn.neighbors import KNeighborsClassifier\n",
    "from sklearn.model_selection import train_test_split\n",
    "import pickle\n",
    "import matplotlib.pyplot as plt\n",
    "import chess\n",
    "import random\n",
    "from utils.data_loader import load_training_data, encode_board_state, decode_prediction\n",
    "from utils.visualization import live_visualize_game\n"
   ]
  },
  {
   "cell_type": "code",
   "execution_count": null,
   "metadata": {},
   "outputs": [],
   "source": [
    "def plot_training_results(train_scores, val_scores, neighbors_range):\n",
    "    \"\"\"Plot training and validation accuracy over different k values.\"\"\"\n",
    "    plt.figure(figsize=(10, 6))\n",
    "    plt.plot(neighbors_range, train_scores, label=\"Training Accuracy\", marker=\"o\")\n",
    "    plt.plot(neighbors_range, val_scores, label=\"Validation Accuracy\", marker=\"o\")\n",
    "    plt.xlabel(\"Number of Neighbors (k)\")\n",
    "    plt.ylabel(\"Accuracy\")\n",
    "    plt.title(\"Training and Validation Accuracy vs. k\")\n",
    "    plt.legend()\n",
    "    plt.grid()\n",
    "    plt.show()"
   ]
  },
  {
   "cell_type": "code",
   "execution_count": null,
   "metadata": {},
   "outputs": [],
   "source": [
    "def train_knn_model(data_path, model_save_path, neighbors_range=range(1, 11)):\n",
    "    \"\"\"Train a KNN model and evaluate for a range of k values.\"\"\"\n",
    "    # Load training data\n",
    "    X, y = load_training_data(data_path)\n",
    "    X = X.reshape(X.shape[0], -1)  # Flatten board states for KNN\n",
    "\n",
    "    # Split data into training and validation sets\n",
    "    X_train, X_val, y_train, y_val = train_test_split(X, y, test_size=0.2, random_state=42)\n",
    "\n",
    "    train_scores = []\n",
    "    val_scores = []\n",
    "\n",
    "    # Iterate over a range of k values to find the best one\n",
    "    for k in neighbors_range:\n",
    "        knn = KNeighborsClassifier(n_neighbors=k)\n",
    "        knn.fit(X_train, y_train)\n",
    "\n",
    "        train_scores.append(knn.score(X_train, y_train))\n",
    "        val_scores.append(knn.score(X_val, y_val))\n",
    "\n",
    "    # Plot results\n",
    "    plot_training_results(train_scores, val_scores, neighbors_range)\n",
    "\n",
    "    # Select the best k value based on validation score\n",
    "    best_k = neighbors_range[np.argmax(val_scores)]\n",
    "    print(f\"Best k: {best_k} with Validation Accuracy: {max(val_scores):.2f}\")\n",
    "\n",
    "    # Train final model with the best k\n",
    "    best_knn = KNeighborsClassifier(n_neighbors=best_k)\n",
    "    best_knn.fit(X_train, y_train)\n",
    "\n",
    "    # Save the final model\n",
    "    with open(model_save_path, 'wb') as file:\n",
    "        pickle.dump(best_knn, file)\n",
    "\n",
    "    print(f\"Model saved to {model_save_path}\")"
   ]
  },
  {
   "cell_type": "code",
   "execution_count": null,
   "metadata": {},
   "outputs": [],
   "source": [
    "def play_self_game(model_path):\n",
    "    \"\"\"Play a chess game where the AI plays against itself.\"\"\"\n",
    "    with open(model_path, 'rb') as file:\n",
    "        knn_model = pickle.load(file)\n",
    "\n",
    "    board = chess.Board()\n",
    "    while not board.is_game_over():\n",
    "        if board.turn:  # AI's turn (White)\n",
    "            encoded_board = encode_board_state(board).reshape(1, -1)\n",
    "            predictions = knn_model.predict(encoded_board)\n",
    "            best_move = decode_prediction(predictions, board)\n",
    "            board.push(best_move)\n",
    "        else:  # AI's turn (Black)\n",
    "            encoded_board = encode_board_state(board).reshape(1, -1)\n",
    "            predictions = knn_model.predict(encoded_board)\n",
    "            best_move = decode_prediction(predictions, board)\n",
    "            board.push(best_move)\n",
    "\n",
    "    print(\"Self-Play Game Over:\", board.result())\n"
   ]
  },
  {
   "cell_type": "code",
   "execution_count": null,
   "metadata": {},
   "outputs": [],
   "source": [
    "def play_stockfish_game(model_path):\n",
    "    \"\"\"Play a chess game where the AI plays against Stockfish.\"\"\"\n",
    "    from stockfish import Stockfish\n",
    "    stockfish = Stockfish(\"stockfish/stockfish\")\n",
    "\n",
    "    with open(model_path, 'rb') as file:\n",
    "        knn_model = pickle.load(file)\n",
    "\n",
    "    board = chess.Board()\n",
    "    while not board.is_game_over():\n",
    "        if board.turn:  # AI's turn (White)\n",
    "            encoded_board = encode_board_state(board).reshape(1, -1)\n",
    "            predictions = knn_model.predict(encoded_board)\n",
    "            best_move = decode_prediction(predictions, board)\n",
    "            board.push(best_move)\n",
    "        else:  # Stockfish's turn (Black)\n",
    "            stockfish.set_fen_position(board.fen())\n",
    "            stockfish_move = stockfish.get_best_move()\n",
    "            board.push(chess.Move.from_uci(stockfish_move))\n",
    "\n",
    "    print(\"Game Against Stockfish Over:\", board.result())"
   ]
  },
  {
   "cell_type": "markdown",
   "metadata": {},
   "source": [
    "Specify file paths and parameters"
   ]
  },
  {
   "cell_type": "code",
   "execution_count": null,
   "metadata": {},
   "outputs": [],
   "source": [
    "data_path = \"data/training_games.csv\"\n",
    "model_save_path = \"data/models/knn_model.pkl\""
   ]
  },
  {
   "cell_type": "markdown",
   "metadata": {},
   "source": [
    "Continuous Training with Self-Play and Stockfish Games"
   ]
  },
  {
   "cell_type": "code",
   "execution_count": null,
   "metadata": {},
   "outputs": [],
   "source": [
    "continuous_training_with_games(data_path, model_save_path)\n"
   ]
  }
 ],
 "metadata": {
  "kernelspec": {
   "display_name": "Python 3",
   "language": "python",
   "name": "python3"
  },
  "language_info": {
   "codemirror_mode": {
    "name": "ipython",
    "version": 3
   },
   "file_extension": ".py",
   "mimetype": "text/x-python",
   "name": "python",
   "nbconvert_exporter": "python",
   "pygments_lexer": "ipython3",
   "version": "3.9.0"
  }
 },
 "nbformat": 4,
 "nbformat_minor": 2
}
